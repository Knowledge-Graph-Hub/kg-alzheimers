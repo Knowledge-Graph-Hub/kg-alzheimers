{
 "cells": [
  {
   "cell_type": "code",
   "execution_count": 1,
   "id": "initial_id",
   "metadata": {
    "collapsed": true,
    "ExecuteTime": {
     "end_time": "2023-10-24T02:19:38.793446Z",
     "start_time": "2023-10-24T02:19:33.857394Z"
    }
   },
   "outputs": [
    {
     "name": "stdout",
     "output_type": "stream",
     "text": [
      "Collecting duckdb\r\n",
      "  Downloading duckdb-0.9.1-cp310-cp310-macosx_11_0_arm64.whl (13.2 MB)\r\n",
      "\u001B[2K     \u001B[90m━━━━━━━━━━━━━━━━━━━━━━━━━━━━━━━━━━━━━━━━\u001B[0m \u001B[32m13.2/13.2 MB\u001B[0m \u001B[31m30.7 MB/s\u001B[0m eta \u001B[36m0:00:00\u001B[0ma \u001B[36m0:00:01\u001B[0m\r\n",
      "\u001B[?25hInstalling collected packages: duckdb\r\n",
      "Successfully installed duckdb-0.9.1\r\n",
      "\r\n",
      "\u001B[1m[\u001B[0m\u001B[34;49mnotice\u001B[0m\u001B[1;39;49m]\u001B[0m\u001B[39;49m A new release of pip is available: \u001B[0m\u001B[31;49m23.1.2\u001B[0m\u001B[39;49m -> \u001B[0m\u001B[32;49m23.3.1\u001B[0m\r\n",
      "\u001B[1m[\u001B[0m\u001B[34;49mnotice\u001B[0m\u001B[1;39;49m]\u001B[0m\u001B[39;49m To update, run: \u001B[0m\u001B[32;49mpip install --upgrade pip\u001B[0m\r\n"
     ]
    }
   ],
   "source": [
    "!pip install duckdb"
   ]
  },
  {
   "cell_type": "code",
   "execution_count": 2,
   "outputs": [],
   "source": [
    "!tar zxf ../output/monarch-kg.tar.gz -C ../output/"
   ],
   "metadata": {
    "collapsed": false,
    "ExecuteTime": {
     "end_time": "2023-10-24T02:20:59.060239Z",
     "start_time": "2023-10-24T02:20:56.603356Z"
    }
   },
   "id": "e0c90aca23317d66"
  },
  {
   "cell_type": "code",
   "execution_count": 114,
   "outputs": [
    {
     "data": {
      "text/plain": "FloatProgress(value=0.0, layout=Layout(width='auto'), style=ProgressStyle(bar_color='black'))",
      "application/vnd.jupyter.widget-view+json": {
       "version_major": 2,
       "version_minor": 0,
       "model_id": "332e4ce8e3bb401ab519bc59a4b4b141"
      }
     },
     "metadata": {},
     "output_type": "display_data"
    },
    {
     "data": {
      "text/plain": "FloatProgress(value=0.0, layout=Layout(width='auto'), style=ProgressStyle(bar_color='black'))",
      "application/vnd.jupyter.widget-view+json": {
       "version_major": 2,
       "version_minor": 0,
       "model_id": "4a3b5f8eca2b40c2946b3985e163a15d"
      }
     },
     "metadata": {},
     "output_type": "display_data"
    },
    {
     "data": {
      "text/plain": "FloatProgress(value=0.0, layout=Layout(width='auto'), style=ProgressStyle(bar_color='black'))",
      "application/vnd.jupyter.widget-view+json": {
       "version_major": 2,
       "version_minor": 0,
       "model_id": "f48812065cf7443e8ac43b5a90e13689"
      }
     },
     "metadata": {},
     "output_type": "display_data"
    },
    {
     "name": "stdout",
     "output_type": "stream",
     "text": [
      "CPU times: user 1min 9s, sys: 3.62 s, total: 1min 13s\n",
      "Wall time: 17.1 s\n"
     ]
    }
   ],
   "source": [
    "%%time\n",
    "import duckdb\n",
    "\n",
    "# create a new database\n",
    "db = duckdb.connect(database='monarch-kg.duckdb')\n",
    "\n",
    "db.sql(\"\"\"\n",
    "create or replace table nodes as select *,  substr(id, 1, instr(id,':') -1) as namespace from read_csv('../output/monarch-kg_nodes.tsv', header=True, sep='\\t', AUTO_DETECT=TRUE)\n",
    "\"\"\")\n",
    "\n",
    "db.sql(\"\"\"\n",
    "create or replace table edges as select * from read_csv('../output/monarch-kg_edges.tsv', header=True, sep='\\t', AUTO_DETECT=TRUE)\n",
    "\"\"\")\n",
    "\n",
    "db.sql(\"\"\"\n",
    "create or replace table closure as select * from read_csv('../data/monarch/phenio-relation-filtered.tsv', sep='\\t', names=['subject_id', 'predicate_id', 'object_id'], AUTO_DETECT=TRUE)\n",
    "\"\"\")\n",
    "\n",
    "db.sql(\"\"\"\n",
    "create or replace table closure_id as select subject_id as id, array_agg(object_id) as closure from closure group by subject_id\n",
    "\"\"\")\n",
    "\n",
    "db.sql(\"\"\"\n",
    "create or replace table closure_label as select subject_id as id, array_agg(name) as closure_label from closure join nodes on object_id = id\n",
    "group by subject_id\n",
    "\"\"\")"
   ],
   "metadata": {
    "collapsed": false,
    "ExecuteTime": {
     "end_time": "2023-10-26T00:04:37.065932Z",
     "start_time": "2023-10-26T00:04:20.406703Z"
    }
   },
   "id": "a34c11c90ffd6154"
  },
  {
   "cell_type": "code",
   "execution_count": 125,
   "outputs": [
    {
     "name": "stdout",
     "output_type": "stream",
     "text": [
      "CPU times: user 9 µs, sys: 1e+03 ns, total: 10 µs\n",
      "Wall time: 14.1 µs\n"
     ]
    }
   ],
   "source": [
    "%%time\n",
    "\n",
    "def columns(field):\n",
    "    column_text = f\"\"\"\n",
    "       {field}.name as {field}_label, \n",
    "       {field}.category as {field}_category,\n",
    "       {field}.namespace as {field}_namespace,\n",
    "       {field}_closure.closure as {field}_closure,\n",
    "       {field}_closure_label.closure_label as {field}_closure_label,    \n",
    "    \"\"\"\n",
    "    if field in ['subject', 'object']:\n",
    "        column_text += f\"\"\"\n",
    "        {field}.in_taxon as {field}_taxon,\n",
    "        {field}.in_taxon_label as {field}_taxon_label,\n",
    "        \"\"\"\n",
    "    return column_text\n",
    "\n",
    "def joins(field):\n",
    "    return f\"\"\"\n",
    "    left outer join nodes as {field} on edges.{field} = {field}.id\n",
    "    left outer join closure_id as {field}_closure on {field}.id = {field}_closure.id\n",
    "    left outer join closure_label as {field}_closure_label on {field}.id = {field}_closure_label.id\n",
    "    \"\"\"    \n",
    "\n",
    "def evidence_sum(evidence_fields):\n",
    "    \"\"\" Sum together the length of each field after splitting on | \"\"\"\n",
    "    evidence_count_sum = \"+\".join([f\"len(split({field}, '|'))\" for field in evidence_fields])\n",
    "    return f\"{evidence_count_sum} as evidence_count,\"\n",
    "\n",
    "def grouping_key(grouping_fields):\n",
    "    fragments = []\n",
    "    for field in grouping_fields:\n",
    "        if field == 'negated':\n",
    "            fragments.append(f\"coalesce({field}.replace('True','NOT'), '')\")\n",
    "        else:\n",
    "            fragments.append(field)\n",
    "    grouping_key_fragments = \", \".join(fragments)\n",
    "    return f\"concat_ws('🍪', {grouping_key_fragments}) as grouping_key\"\n"
   ],
   "metadata": {
    "collapsed": false,
    "ExecuteTime": {
     "end_time": "2023-10-26T00:12:23.701405Z",
     "start_time": "2023-10-26T00:12:23.683385Z"
    }
   },
   "id": "5e9efed987afc4aa"
  },
  {
   "cell_type": "code",
   "execution_count": 126,
   "outputs": [
    {
     "data": {
      "text/plain": "FloatProgress(value=0.0, layout=Layout(width='auto'), style=ProgressStyle(bar_color='black'))",
      "application/vnd.jupyter.widget-view+json": {
       "version_major": 2,
       "version_minor": 0,
       "model_id": "0d7d216d56a64c44a5f74f220be27186"
      }
     },
     "metadata": {},
     "output_type": "display_data"
    },
    {
     "name": "stdout",
     "output_type": "stream",
     "text": [
      "CPU times: user 2min 38s, sys: 8.2 s, total: 2min 46s\n",
      "Wall time: 25.7 s\n"
     ]
    }
   ],
   "source": [
    "%%time\n",
    "# create or replace table denormalized_edges as\n",
    "\n",
    "fields = ['subject',\n",
    "          'object',\n",
    "          'qualifiers',\n",
    "          'frequency_qualifier',\n",
    "          'onset_qualifier',\n",
    "          'sex_qualifier',\n",
    "          'stage_qualifier']\n",
    "\n",
    "evidence_fields = ['publications', 'has_evidence']\n",
    "grouping_fields = ['subject', 'negated', 'predicate', 'object']\n",
    "\n",
    "query = f\"\"\"\n",
    "create or replace table denormalized_edges as\n",
    "select edges.*, \n",
    "       {\"\".join([columns(field) for field in fields])}\n",
    "       {evidence_sum(evidence_fields)}\n",
    "       {grouping_key(grouping_fields)}  \n",
    "from edges\n",
    "    {\"\".join([joins(field) for field in fields])}\n",
    "\"\"\"\n",
    "\n",
    "db.query(query)\n",
    "#print(query)\n"
   ],
   "metadata": {
    "collapsed": false,
    "ExecuteTime": {
     "end_time": "2023-10-26T00:12:55.991558Z",
     "start_time": "2023-10-26T00:12:30.268747Z"
    }
   },
   "id": "5d587e2611e69547"
  },
  {
   "cell_type": "code",
   "execution_count": 131,
   "outputs": [
    {
     "data": {
      "text/plain": "FloatProgress(value=0.0, layout=Layout(width='auto'), style=ProgressStyle(bar_color='black'))",
      "application/vnd.jupyter.widget-view+json": {
       "version_major": 2,
       "version_minor": 0,
       "model_id": "fe0bbe33540644ac971fb3208c75b0c2"
      }
     },
     "metadata": {},
     "output_type": "display_data"
    },
    {
     "name": "stdout",
     "output_type": "stream",
     "text": [
      "CPU times: user 49.7 s, sys: 17.3 s, total: 1min 6s\n",
      "Wall time: 14.6 s\n"
     ]
    }
   ],
   "source": [
    "%%time\n",
    "db.query(\"\"\"\n",
    "-- write denormalized_edges as tsv\n",
    "copy (select * from denormalized_edges) to 'monarch-kg-denormalized-edges.tsv' (header, delimiter '\\t')\n",
    "\"\"\")"
   ],
   "metadata": {
    "collapsed": false,
    "ExecuteTime": {
     "end_time": "2023-10-26T00:16:31.455389Z",
     "start_time": "2023-10-26T00:16:16.841976Z"
    }
   },
   "id": "2ddbb143907a16cf"
  }
 ],
 "metadata": {
  "kernelspec": {
   "display_name": "Python 3",
   "language": "python",
   "name": "python3"
  },
  "language_info": {
   "codemirror_mode": {
    "name": "ipython",
    "version": 2
   },
   "file_extension": ".py",
   "mimetype": "text/x-python",
   "name": "python",
   "nbconvert_exporter": "python",
   "pygments_lexer": "ipython2",
   "version": "2.7.6"
  }
 },
 "nbformat": 4,
 "nbformat_minor": 5
}
